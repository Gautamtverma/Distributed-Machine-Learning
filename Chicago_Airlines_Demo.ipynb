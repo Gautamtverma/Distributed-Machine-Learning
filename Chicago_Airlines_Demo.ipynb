{
 "cells": [
  {
   "cell_type": "code",
   "execution_count": 1,
   "metadata": {
    "collapsed": false
   },
   "outputs": [],
   "source": [
    "import os\n",
    "import h2o\n",
    "from h2o.estimators.glm import H2OGeneralizedLinearEstimator\n",
    "from h2o.estimators.gbm import H2OGradientBoostingEstimator"
   ]
  },
  {
   "cell_type": "code",
   "execution_count": 2,
   "metadata": {
    "collapsed": false
   },
   "outputs": [
    {
     "name": "stderr",
     "output_type": "stream",
     "text": [
      "C:\\Users\\Miya\\Anaconda2\\lib\\site-packages\\IPython\\core\\formatters.py:92: DeprecationWarning: DisplayFormatter._ipython_display_formatter_default is deprecated: use @default decorator instead.\n",
      "  def _ipython_display_formatter_default(self):\n",
      "C:\\Users\\Miya\\Anaconda2\\lib\\site-packages\\IPython\\core\\formatters.py:98: DeprecationWarning: DisplayFormatter._formatters_default is deprecated: use @default decorator instead.\n",
      "  def _formatters_default(self):\n",
      "C:\\Users\\Miya\\Anaconda2\\lib\\site-packages\\IPython\\core\\formatters.py:677: DeprecationWarning: PlainTextFormatter._deferred_printers_default is deprecated: use @default decorator instead.\n",
      "  def _deferred_printers_default(self):\n",
      "C:\\Users\\Miya\\Anaconda2\\lib\\site-packages\\IPython\\core\\formatters.py:669: DeprecationWarning: PlainTextFormatter._singleton_printers_default is deprecated: use @default decorator instead.\n",
      "  def _singleton_printers_default(self):\n",
      "C:\\Users\\Miya\\Anaconda2\\lib\\site-packages\\IPython\\core\\formatters.py:672: DeprecationWarning: PlainTextFormatter._type_printers_default is deprecated: use @default decorator instead.\n",
      "  def _type_printers_default(self):\n",
      "C:\\Users\\Miya\\Anaconda2\\lib\\site-packages\\IPython\\core\\formatters.py:669: DeprecationWarning: PlainTextFormatter._singleton_printers_default is deprecated: use @default decorator instead.\n",
      "  def _singleton_printers_default(self):\n",
      "C:\\Users\\Miya\\Anaconda2\\lib\\site-packages\\IPython\\core\\formatters.py:672: DeprecationWarning: PlainTextFormatter._type_printers_default is deprecated: use @default decorator instead.\n",
      "  def _type_printers_default(self):\n",
      "C:\\Users\\Miya\\Anaconda2\\lib\\site-packages\\IPython\\core\\formatters.py:677: DeprecationWarning: PlainTextFormatter._deferred_printers_default is deprecated: use @default decorator instead.\n",
      "  def _deferred_printers_default(self):\n"
     ]
    },
    {
     "data": {
      "text/html": [
       "<div style=\"overflow:auto\"><table style=\"width:50%\"><tr><td>H2O cluster uptime: </td>\n",
       "<td>6 minutes 26 seconds 405 milliseconds </td></tr>\n",
       "<tr><td>H2O cluster version: </td>\n",
       "<td>3.8.3.3</td></tr>\n",
       "<tr><td>H2O cluster name: </td>\n",
       "<td>Miya</td></tr>\n",
       "<tr><td>H2O cluster total nodes: </td>\n",
       "<td>1</td></tr>\n",
       "<tr><td>H2O cluster total free memory: </td>\n",
       "<td>3.52 GB</td></tr>\n",
       "<tr><td>H2O cluster total cores: </td>\n",
       "<td>4</td></tr>\n",
       "<tr><td>H2O cluster allowed cores: </td>\n",
       "<td>4</td></tr>\n",
       "<tr><td>H2O cluster healthy: </td>\n",
       "<td>True</td></tr>\n",
       "<tr><td>H2O Connection ip: </td>\n",
       "<td>127.0.0.1</td></tr>\n",
       "<tr><td>H2O Connection port: </td>\n",
       "<td>54321</td></tr>\n",
       "<tr><td>H2O Connection proxy: </td>\n",
       "<td>None</td></tr>\n",
       "<tr><td>Python Version: </td>\n",
       "<td>2.7.11</td></tr></table></div>"
      ],
      "text/plain": [
       "------------------------------  -------------------------------------\n",
       "H2O cluster uptime:             6 minutes 26 seconds 405 milliseconds\n",
       "H2O cluster version:            3.8.3.3\n",
       "H2O cluster name:               Miya\n",
       "H2O cluster total nodes:        1\n",
       "H2O cluster total free memory:  3.52 GB\n",
       "H2O cluster total cores:        4\n",
       "H2O cluster allowed cores:      4\n",
       "H2O cluster healthy:            True\n",
       "H2O Connection ip:              127.0.0.1\n",
       "H2O Connection port:            54321\n",
       "H2O Connection proxy:\n",
       "Python Version:                 2.7.11\n",
       "------------------------------  -------------------------------------"
      ]
     },
     "metadata": {},
     "output_type": "display_data"
    }
   ],
   "source": [
    "# Connect to a cluster\n",
    "h2o.init()"
   ]
  },
  {
   "cell_type": "code",
   "execution_count": 5,
   "metadata": {
    "collapsed": false
   },
   "outputs": [],
   "source": [
    "## Define data paths\n",
    "base_path = os.path.abspath(\"../data\")\n",
    "flights_path = base_path + \"/flights.csv\"\n",
    "weather_path = base_path + \"/weather.csv\""
   ]
  },
  {
   "cell_type": "code",
   "execution_count": 6,
   "metadata": {
    "collapsed": false
   },
   "outputs": [
    {
     "name": "stdout",
     "output_type": "stream",
     "text": [
      "\n",
      "Parse Progress: [##################################################] 100%\n",
      "\n",
      "Parse Progress: [##################################################] 100%\n"
     ]
    }
   ],
   "source": [
    "## Ingest data\n",
    "flights_hex = h2o.import_file(path = flights_path, destination_frame = \"flights_hex\")\n",
    "weather_hex = h2o.import_file(path = weather_path, destination_frame = \"weather_hex\")"
   ]
  },
  {
   "cell_type": "code",
   "execution_count": 7,
   "metadata": {
    "collapsed": false
   },
   "outputs": [
    {
     "data": {
      "text/html": [
       "<table>\n",
       "<tr><th style=\"text-align: right;\">  Year</th><th style=\"text-align: right;\">  Month</th><th style=\"text-align: right;\">  DayofMonth</th><th style=\"text-align: right;\">  DayOfWeek</th><th style=\"text-align: right;\">  DepTime</th><th style=\"text-align: right;\">  CRSDepTime</th><th style=\"text-align: right;\">  ArrTime</th><th style=\"text-align: right;\">  CRSArrTime</th><th>UniqueCarrier  </th><th style=\"text-align: right;\">  FlightNum</th><th style=\"text-align: right;\">  TailNum</th><th style=\"text-align: right;\">  ActualElapsedTime</th><th style=\"text-align: right;\">  CRSElapsedTime</th><th style=\"text-align: right;\">  AirTime</th><th style=\"text-align: right;\">  ArrDelay</th><th style=\"text-align: right;\">  DepDelay</th><th>Origin  </th><th>Dest  </th><th style=\"text-align: right;\">  Distance</th><th style=\"text-align: right;\">  TaxiIn</th><th style=\"text-align: right;\">  TaxiOut</th><th style=\"text-align: right;\">  Cancelled</th><th style=\"text-align: right;\">  CancellationCode</th><th style=\"text-align: right;\">  Diverted</th><th style=\"text-align: right;\">  CarrierDelay</th><th style=\"text-align: right;\">  WeatherDelay</th><th style=\"text-align: right;\">  NASDelay</th><th style=\"text-align: right;\">  SecurityDelay</th><th style=\"text-align: right;\">  LateAircraftDelay</th><th>IsArrDelayed  </th><th>IsDepDelayed  </th></tr>\n",
       "<tr><td style=\"text-align: right;\">  1987</td><td style=\"text-align: right;\">     10</td><td style=\"text-align: right;\">           3</td><td style=\"text-align: right;\">          6</td><td style=\"text-align: right;\">      907</td><td style=\"text-align: right;\">         907</td><td style=\"text-align: right;\">     1511</td><td style=\"text-align: right;\">        1500</td><td>AA             </td><td style=\"text-align: right;\">         38</td><td style=\"text-align: right;\">      nan</td><td style=\"text-align: right;\">                244</td><td style=\"text-align: right;\">             233</td><td style=\"text-align: right;\">      nan</td><td style=\"text-align: right;\">        11</td><td style=\"text-align: right;\">         0</td><td>SAN     </td><td>ORD   </td><td style=\"text-align: right;\">      1723</td><td style=\"text-align: right;\">     nan</td><td style=\"text-align: right;\">      nan</td><td style=\"text-align: right;\">          0</td><td style=\"text-align: right;\">               nan</td><td style=\"text-align: right;\">         0</td><td style=\"text-align: right;\">             0</td><td style=\"text-align: right;\">             0</td><td style=\"text-align: right;\">         0</td><td style=\"text-align: right;\">              0</td><td style=\"text-align: right;\">                  0</td><td>YES           </td><td>NO            </td></tr>\n",
       "<tr><td style=\"text-align: right;\">  1987</td><td style=\"text-align: right;\">     10</td><td style=\"text-align: right;\">           6</td><td style=\"text-align: right;\">          2</td><td style=\"text-align: right;\">      907</td><td style=\"text-align: right;\">         907</td><td style=\"text-align: right;\">     1507</td><td style=\"text-align: right;\">        1500</td><td>AA             </td><td style=\"text-align: right;\">         38</td><td style=\"text-align: right;\">      nan</td><td style=\"text-align: right;\">                240</td><td style=\"text-align: right;\">             233</td><td style=\"text-align: right;\">      nan</td><td style=\"text-align: right;\">         7</td><td style=\"text-align: right;\">         0</td><td>SAN     </td><td>ORD   </td><td style=\"text-align: right;\">      1723</td><td style=\"text-align: right;\">     nan</td><td style=\"text-align: right;\">      nan</td><td style=\"text-align: right;\">          0</td><td style=\"text-align: right;\">               nan</td><td style=\"text-align: right;\">         0</td><td style=\"text-align: right;\">             0</td><td style=\"text-align: right;\">             0</td><td style=\"text-align: right;\">         0</td><td style=\"text-align: right;\">              0</td><td style=\"text-align: right;\">                  0</td><td>YES           </td><td>NO            </td></tr>\n",
       "<tr><td style=\"text-align: right;\">  1987</td><td style=\"text-align: right;\">     10</td><td style=\"text-align: right;\">           8</td><td style=\"text-align: right;\">          4</td><td style=\"text-align: right;\">      907</td><td style=\"text-align: right;\">         907</td><td style=\"text-align: right;\">     1451</td><td style=\"text-align: right;\">        1500</td><td>AA             </td><td style=\"text-align: right;\">         38</td><td style=\"text-align: right;\">      nan</td><td style=\"text-align: right;\">                224</td><td style=\"text-align: right;\">             233</td><td style=\"text-align: right;\">      nan</td><td style=\"text-align: right;\">        -9</td><td style=\"text-align: right;\">         0</td><td>SAN     </td><td>ORD   </td><td style=\"text-align: right;\">      1723</td><td style=\"text-align: right;\">     nan</td><td style=\"text-align: right;\">      nan</td><td style=\"text-align: right;\">          0</td><td style=\"text-align: right;\">               nan</td><td style=\"text-align: right;\">         0</td><td style=\"text-align: right;\">             0</td><td style=\"text-align: right;\">             0</td><td style=\"text-align: right;\">         0</td><td style=\"text-align: right;\">              0</td><td style=\"text-align: right;\">                  0</td><td>NO            </td><td>NO            </td></tr>\n",
       "<tr><td style=\"text-align: right;\">  1987</td><td style=\"text-align: right;\">     10</td><td style=\"text-align: right;\">           9</td><td style=\"text-align: right;\">          5</td><td style=\"text-align: right;\">      906</td><td style=\"text-align: right;\">         907</td><td style=\"text-align: right;\">     1449</td><td style=\"text-align: right;\">        1500</td><td>AA             </td><td style=\"text-align: right;\">         38</td><td style=\"text-align: right;\">      nan</td><td style=\"text-align: right;\">                223</td><td style=\"text-align: right;\">             233</td><td style=\"text-align: right;\">      nan</td><td style=\"text-align: right;\">       -11</td><td style=\"text-align: right;\">        -1</td><td>SAN     </td><td>ORD   </td><td style=\"text-align: right;\">      1723</td><td style=\"text-align: right;\">     nan</td><td style=\"text-align: right;\">      nan</td><td style=\"text-align: right;\">          0</td><td style=\"text-align: right;\">               nan</td><td style=\"text-align: right;\">         0</td><td style=\"text-align: right;\">             0</td><td style=\"text-align: right;\">             0</td><td style=\"text-align: right;\">         0</td><td style=\"text-align: right;\">              0</td><td style=\"text-align: right;\">                  0</td><td>NO            </td><td>NO            </td></tr>\n",
       "<tr><td style=\"text-align: right;\">  1987</td><td style=\"text-align: right;\">     10</td><td style=\"text-align: right;\">          10</td><td style=\"text-align: right;\">          6</td><td style=\"text-align: right;\">      906</td><td style=\"text-align: right;\">         907</td><td style=\"text-align: right;\">     1434</td><td style=\"text-align: right;\">        1500</td><td>AA             </td><td style=\"text-align: right;\">         38</td><td style=\"text-align: right;\">      nan</td><td style=\"text-align: right;\">                208</td><td style=\"text-align: right;\">             233</td><td style=\"text-align: right;\">      nan</td><td style=\"text-align: right;\">       -26</td><td style=\"text-align: right;\">        -1</td><td>SAN     </td><td>ORD   </td><td style=\"text-align: right;\">      1723</td><td style=\"text-align: right;\">     nan</td><td style=\"text-align: right;\">      nan</td><td style=\"text-align: right;\">          0</td><td style=\"text-align: right;\">               nan</td><td style=\"text-align: right;\">         0</td><td style=\"text-align: right;\">             0</td><td style=\"text-align: right;\">             0</td><td style=\"text-align: right;\">         0</td><td style=\"text-align: right;\">              0</td><td style=\"text-align: right;\">                  0</td><td>NO            </td><td>NO            </td></tr>\n",
       "<tr><td style=\"text-align: right;\">  1987</td><td style=\"text-align: right;\">     10</td><td style=\"text-align: right;\">          11</td><td style=\"text-align: right;\">          7</td><td style=\"text-align: right;\">      907</td><td style=\"text-align: right;\">         907</td><td style=\"text-align: right;\">     1440</td><td style=\"text-align: right;\">        1500</td><td>AA             </td><td style=\"text-align: right;\">         38</td><td style=\"text-align: right;\">      nan</td><td style=\"text-align: right;\">                213</td><td style=\"text-align: right;\">             233</td><td style=\"text-align: right;\">      nan</td><td style=\"text-align: right;\">       -20</td><td style=\"text-align: right;\">         0</td><td>SAN     </td><td>ORD   </td><td style=\"text-align: right;\">      1723</td><td style=\"text-align: right;\">     nan</td><td style=\"text-align: right;\">      nan</td><td style=\"text-align: right;\">          0</td><td style=\"text-align: right;\">               nan</td><td style=\"text-align: right;\">         0</td><td style=\"text-align: right;\">             0</td><td style=\"text-align: right;\">             0</td><td style=\"text-align: right;\">         0</td><td style=\"text-align: right;\">              0</td><td style=\"text-align: right;\">                  0</td><td>NO            </td><td>NO            </td></tr>\n",
       "<tr><td style=\"text-align: right;\">  1987</td><td style=\"text-align: right;\">     10</td><td style=\"text-align: right;\">          12</td><td style=\"text-align: right;\">          1</td><td style=\"text-align: right;\">      906</td><td style=\"text-align: right;\">         907</td><td style=\"text-align: right;\">     1456</td><td style=\"text-align: right;\">        1500</td><td>AA             </td><td style=\"text-align: right;\">         38</td><td style=\"text-align: right;\">      nan</td><td style=\"text-align: right;\">                230</td><td style=\"text-align: right;\">             233</td><td style=\"text-align: right;\">      nan</td><td style=\"text-align: right;\">        -4</td><td style=\"text-align: right;\">        -1</td><td>SAN     </td><td>ORD   </td><td style=\"text-align: right;\">      1723</td><td style=\"text-align: right;\">     nan</td><td style=\"text-align: right;\">      nan</td><td style=\"text-align: right;\">          0</td><td style=\"text-align: right;\">               nan</td><td style=\"text-align: right;\">         0</td><td style=\"text-align: right;\">             0</td><td style=\"text-align: right;\">             0</td><td style=\"text-align: right;\">         0</td><td style=\"text-align: right;\">              0</td><td style=\"text-align: right;\">                  0</td><td>NO            </td><td>NO            </td></tr>\n",
       "<tr><td style=\"text-align: right;\">  1987</td><td style=\"text-align: right;\">     10</td><td style=\"text-align: right;\">          14</td><td style=\"text-align: right;\">          3</td><td style=\"text-align: right;\">      906</td><td style=\"text-align: right;\">         907</td><td style=\"text-align: right;\">     1511</td><td style=\"text-align: right;\">        1500</td><td>AA             </td><td style=\"text-align: right;\">         38</td><td style=\"text-align: right;\">      nan</td><td style=\"text-align: right;\">                245</td><td style=\"text-align: right;\">             233</td><td style=\"text-align: right;\">      nan</td><td style=\"text-align: right;\">        11</td><td style=\"text-align: right;\">        -1</td><td>SAN     </td><td>ORD   </td><td style=\"text-align: right;\">      1723</td><td style=\"text-align: right;\">     nan</td><td style=\"text-align: right;\">      nan</td><td style=\"text-align: right;\">          0</td><td style=\"text-align: right;\">               nan</td><td style=\"text-align: right;\">         0</td><td style=\"text-align: right;\">             0</td><td style=\"text-align: right;\">             0</td><td style=\"text-align: right;\">         0</td><td style=\"text-align: right;\">              0</td><td style=\"text-align: right;\">                  0</td><td>YES           </td><td>NO            </td></tr>\n",
       "<tr><td style=\"text-align: right;\">  1987</td><td style=\"text-align: right;\">     10</td><td style=\"text-align: right;\">          15</td><td style=\"text-align: right;\">          4</td><td style=\"text-align: right;\">      906</td><td style=\"text-align: right;\">         907</td><td style=\"text-align: right;\">     1444</td><td style=\"text-align: right;\">        1500</td><td>AA             </td><td style=\"text-align: right;\">         38</td><td style=\"text-align: right;\">      nan</td><td style=\"text-align: right;\">                218</td><td style=\"text-align: right;\">             233</td><td style=\"text-align: right;\">      nan</td><td style=\"text-align: right;\">       -16</td><td style=\"text-align: right;\">        -1</td><td>SAN     </td><td>ORD   </td><td style=\"text-align: right;\">      1723</td><td style=\"text-align: right;\">     nan</td><td style=\"text-align: right;\">      nan</td><td style=\"text-align: right;\">          0</td><td style=\"text-align: right;\">               nan</td><td style=\"text-align: right;\">         0</td><td style=\"text-align: right;\">             0</td><td style=\"text-align: right;\">             0</td><td style=\"text-align: right;\">         0</td><td style=\"text-align: right;\">              0</td><td style=\"text-align: right;\">                  0</td><td>NO            </td><td>NO            </td></tr>\n",
       "<tr><td style=\"text-align: right;\">  1987</td><td style=\"text-align: right;\">     10</td><td style=\"text-align: right;\">          16</td><td style=\"text-align: right;\">          5</td><td style=\"text-align: right;\">      907</td><td style=\"text-align: right;\">         907</td><td style=\"text-align: right;\">     1451</td><td style=\"text-align: right;\">        1500</td><td>AA             </td><td style=\"text-align: right;\">         38</td><td style=\"text-align: right;\">      nan</td><td style=\"text-align: right;\">                224</td><td style=\"text-align: right;\">             233</td><td style=\"text-align: right;\">      nan</td><td style=\"text-align: right;\">        -9</td><td style=\"text-align: right;\">         0</td><td>SAN     </td><td>ORD   </td><td style=\"text-align: right;\">      1723</td><td style=\"text-align: right;\">     nan</td><td style=\"text-align: right;\">      nan</td><td style=\"text-align: right;\">          0</td><td style=\"text-align: right;\">               nan</td><td style=\"text-align: right;\">         0</td><td style=\"text-align: right;\">             0</td><td style=\"text-align: right;\">             0</td><td style=\"text-align: right;\">         0</td><td style=\"text-align: right;\">              0</td><td style=\"text-align: right;\">                  0</td><td>NO            </td><td>NO            </td></tr>\n",
       "</table>"
      ]
     },
     "metadata": {},
     "output_type": "display_data"
    },
    {
     "data": {
      "text/html": [
       "<table>\n",
       "<tr><th>ICAO  </th><th style=\"text-align: right;\">  MaxTempF</th><th style=\"text-align: right;\">  MeanTempF</th><th style=\"text-align: right;\">  MinTempF</th><th style=\"text-align: right;\">  MaxDewPointF</th><th style=\"text-align: right;\">  MeanDewPointF</th><th style=\"text-align: right;\">  Min DewpointF</th><th style=\"text-align: right;\">  MaxHumidity</th><th style=\"text-align: right;\">  MeanHumidity</th><th style=\"text-align: right;\">  MinHumidity</th><th style=\"text-align: right;\">  MaxSeaLevelPressureIn</th><th style=\"text-align: right;\">  MeanSeaLevelPressureIn</th><th style=\"text-align: right;\">  MinSeaLevelPressureIn</th><th style=\"text-align: right;\">  MaxVisibilityMiles</th><th style=\"text-align: right;\">  MeanVisibilityMiles</th><th style=\"text-align: right;\">  MinVisibilityMiles</th><th style=\"text-align: right;\">  MaxWindSpeedMPH</th><th style=\"text-align: right;\">  MeanWindSpeedMPH</th><th style=\"text-align: right;\">  MaxGustSpeedMPH</th><th style=\"text-align: right;\">  PrecipitationIn</th><th style=\"text-align: right;\">  CloudCover</th><th>Events  </th><th style=\"text-align: right;\">  WindDirDegrees</th><th>Dest  </th><th style=\"text-align: right;\">  Year</th><th style=\"text-align: right;\">  Month</th><th style=\"text-align: right;\">  DayofMonth</th></tr>\n",
       "<tr><td>KORD  </td><td style=\"text-align: right;\">        33</td><td style=\"text-align: right;\">         32</td><td style=\"text-align: right;\">        30</td><td style=\"text-align: right;\">            32</td><td style=\"text-align: right;\">             29</td><td style=\"text-align: right;\">             24</td><td style=\"text-align: right;\">           96</td><td style=\"text-align: right;\">            90</td><td style=\"text-align: right;\">           79</td><td style=\"text-align: right;\">                  30.14</td><td style=\"text-align: right;\">                   30.03</td><td style=\"text-align: right;\">                  29.95</td><td style=\"text-align: right;\">                  10</td><td style=\"text-align: right;\">                    3</td><td style=\"text-align: right;\">                   1</td><td style=\"text-align: right;\">                9</td><td style=\"text-align: right;\">                 5</td><td style=\"text-align: right;\">              nan</td><td style=\"text-align: right;\">             0.16</td><td style=\"text-align: right;\">           8</td><td>Fog-Snow</td><td style=\"text-align: right;\">             308</td><td>ORD   </td><td style=\"text-align: right;\">  1987</td><td style=\"text-align: right;\">      1</td><td style=\"text-align: right;\">           1</td></tr>\n",
       "<tr><td>KORD  </td><td style=\"text-align: right;\">        36</td><td style=\"text-align: right;\">         33</td><td style=\"text-align: right;\">        30</td><td style=\"text-align: right;\">            33</td><td style=\"text-align: right;\">             31</td><td style=\"text-align: right;\">             29</td><td style=\"text-align: right;\">          100</td><td style=\"text-align: right;\">            90</td><td style=\"text-align: right;\">           82</td><td style=\"text-align: right;\">                  30.18</td><td style=\"text-align: right;\">                   30.02</td><td style=\"text-align: right;\">                  29.94</td><td style=\"text-align: right;\">                   8</td><td style=\"text-align: right;\">                    6</td><td style=\"text-align: right;\">                   2</td><td style=\"text-align: right;\">               10</td><td style=\"text-align: right;\">                 7</td><td style=\"text-align: right;\">              nan</td><td style=\"text-align: right;\">             0.01</td><td style=\"text-align: right;\">           7</td><td>Fog-Snow</td><td style=\"text-align: right;\">             323</td><td>ORD   </td><td style=\"text-align: right;\">  1987</td><td style=\"text-align: right;\">      1</td><td style=\"text-align: right;\">           2</td></tr>\n",
       "<tr><td>KORD  </td><td style=\"text-align: right;\">        39</td><td style=\"text-align: right;\">         33</td><td style=\"text-align: right;\">        27</td><td style=\"text-align: right;\">            30</td><td style=\"text-align: right;\">             29</td><td style=\"text-align: right;\">             26</td><td style=\"text-align: right;\">          100</td><td style=\"text-align: right;\">            87</td><td style=\"text-align: right;\">           65</td><td style=\"text-align: right;\">                  30.34</td><td style=\"text-align: right;\">                   30.28</td><td style=\"text-align: right;\">                  30.19</td><td style=\"text-align: right;\">                   9</td><td style=\"text-align: right;\">                    7</td><td style=\"text-align: right;\">                   5</td><td style=\"text-align: right;\">               12</td><td style=\"text-align: right;\">                 5</td><td style=\"text-align: right;\">              nan</td><td style=\"text-align: right;\">             0   </td><td style=\"text-align: right;\">           7</td><td>Fog     </td><td style=\"text-align: right;\">             273</td><td>ORD   </td><td style=\"text-align: right;\">  1987</td><td style=\"text-align: right;\">      1</td><td style=\"text-align: right;\">           3</td></tr>\n",
       "<tr><td>KORD  </td><td style=\"text-align: right;\">        37</td><td style=\"text-align: right;\">         28</td><td style=\"text-align: right;\">        19</td><td style=\"text-align: right;\">            31</td><td style=\"text-align: right;\">             26</td><td style=\"text-align: right;\">             19</td><td style=\"text-align: right;\">          100</td><td style=\"text-align: right;\">            89</td><td style=\"text-align: right;\">           65</td><td style=\"text-align: right;\">                  30.42</td><td style=\"text-align: right;\">                   30.38</td><td style=\"text-align: right;\">                  30.32</td><td style=\"text-align: right;\">                   8</td><td style=\"text-align: right;\">                    4</td><td style=\"text-align: right;\">                   0</td><td style=\"text-align: right;\">                8</td><td style=\"text-align: right;\">                 4</td><td style=\"text-align: right;\">              nan</td><td style=\"text-align: right;\">             0   </td><td style=\"text-align: right;\">           4</td><td>Fog     </td><td style=\"text-align: right;\">             332</td><td>ORD   </td><td style=\"text-align: right;\">  1987</td><td style=\"text-align: right;\">      1</td><td style=\"text-align: right;\">           4</td></tr>\n",
       "<tr><td>KORD  </td><td style=\"text-align: right;\">        39</td><td style=\"text-align: right;\">         32</td><td style=\"text-align: right;\">        25</td><td style=\"text-align: right;\">            30</td><td style=\"text-align: right;\">             27</td><td style=\"text-align: right;\">             24</td><td style=\"text-align: right;\">          100</td><td style=\"text-align: right;\">            81</td><td style=\"text-align: right;\">           62</td><td style=\"text-align: right;\">                  30.39</td><td style=\"text-align: right;\">                   30.27</td><td style=\"text-align: right;\">                  30.07</td><td style=\"text-align: right;\">                  10</td><td style=\"text-align: right;\">                    8</td><td style=\"text-align: right;\">                   3</td><td style=\"text-align: right;\">               13</td><td style=\"text-align: right;\">                 7</td><td style=\"text-align: right;\">              nan</td><td style=\"text-align: right;\">             0   </td><td style=\"text-align: right;\">           5</td><td>Fog     </td><td style=\"text-align: right;\">             180</td><td>ORD   </td><td style=\"text-align: right;\">  1987</td><td style=\"text-align: right;\">      1</td><td style=\"text-align: right;\">           5</td></tr>\n",
       "<tr><td>KORD  </td><td style=\"text-align: right;\">        46</td><td style=\"text-align: right;\">         40</td><td style=\"text-align: right;\">        34</td><td style=\"text-align: right;\">            38</td><td style=\"text-align: right;\">             31</td><td style=\"text-align: right;\">             26</td><td style=\"text-align: right;\">           86</td><td style=\"text-align: right;\">            73</td><td style=\"text-align: right;\">           62</td><td style=\"text-align: right;\">                  30.04</td><td style=\"text-align: right;\">                   29.8 </td><td style=\"text-align: right;\">                  29.61</td><td style=\"text-align: right;\">                  15</td><td style=\"text-align: right;\">                   10</td><td style=\"text-align: right;\">                  10</td><td style=\"text-align: right;\">               23</td><td style=\"text-align: right;\">                14</td><td style=\"text-align: right;\">              nan</td><td style=\"text-align: right;\">             0   </td><td style=\"text-align: right;\">           7</td><td>Rain    </td><td style=\"text-align: right;\">             226</td><td>ORD   </td><td style=\"text-align: right;\">  1987</td><td style=\"text-align: right;\">      1</td><td style=\"text-align: right;\">           6</td></tr>\n",
       "<tr><td>KORD  </td><td style=\"text-align: right;\">        37</td><td style=\"text-align: right;\">         35</td><td style=\"text-align: right;\">        32</td><td style=\"text-align: right;\">            31</td><td style=\"text-align: right;\">             28</td><td style=\"text-align: right;\">             26</td><td style=\"text-align: right;\">           82</td><td style=\"text-align: right;\">            75</td><td style=\"text-align: right;\">           70</td><td style=\"text-align: right;\">                  30.27</td><td style=\"text-align: right;\">                   30.16</td><td style=\"text-align: right;\">                  29.93</td><td style=\"text-align: right;\">                  15</td><td style=\"text-align: right;\">                   11</td><td style=\"text-align: right;\">                   7</td><td style=\"text-align: right;\">               14</td><td style=\"text-align: right;\">                10</td><td style=\"text-align: right;\">              nan</td><td style=\"text-align: right;\">             0   </td><td style=\"text-align: right;\">           8</td><td>        </td><td style=\"text-align: right;\">             309</td><td>ORD   </td><td style=\"text-align: right;\">  1987</td><td style=\"text-align: right;\">      1</td><td style=\"text-align: right;\">           7</td></tr>\n",
       "<tr><td>KORD  </td><td style=\"text-align: right;\">        32</td><td style=\"text-align: right;\">         29</td><td style=\"text-align: right;\">        26</td><td style=\"text-align: right;\">            27</td><td style=\"text-align: right;\">             22</td><td style=\"text-align: right;\">             18</td><td style=\"text-align: right;\">           85</td><td style=\"text-align: right;\">            74</td><td style=\"text-align: right;\">           61</td><td style=\"text-align: right;\">                  30.27</td><td style=\"text-align: right;\">                   30.22</td><td style=\"text-align: right;\">                  30.16</td><td style=\"text-align: right;\">                  15</td><td style=\"text-align: right;\">                   12</td><td style=\"text-align: right;\">                   7</td><td style=\"text-align: right;\">               17</td><td style=\"text-align: right;\">                11</td><td style=\"text-align: right;\">              nan</td><td style=\"text-align: right;\">             0   </td><td style=\"text-align: right;\">           7</td><td>Snow    </td><td style=\"text-align: right;\">             268</td><td>ORD   </td><td style=\"text-align: right;\">  1987</td><td style=\"text-align: right;\">      1</td><td style=\"text-align: right;\">           8</td></tr>\n",
       "<tr><td>KORD  </td><td style=\"text-align: right;\">        30</td><td style=\"text-align: right;\">         26</td><td style=\"text-align: right;\">        21</td><td style=\"text-align: right;\">            30</td><td style=\"text-align: right;\">             25</td><td style=\"text-align: right;\">             19</td><td style=\"text-align: right;\">          100</td><td style=\"text-align: right;\">            89</td><td style=\"text-align: right;\">           82</td><td style=\"text-align: right;\">                  30.14</td><td style=\"text-align: right;\">                   29.9 </td><td style=\"text-align: right;\">                  29.61</td><td style=\"text-align: right;\">                  15</td><td style=\"text-align: right;\">                    6</td><td style=\"text-align: right;\">                   0</td><td style=\"text-align: right;\">               16</td><td style=\"text-align: right;\">                 8</td><td style=\"text-align: right;\">              nan</td><td style=\"text-align: right;\">             0.46</td><td style=\"text-align: right;\">           6</td><td>Fog-Snow</td><td style=\"text-align: right;\">             147</td><td>ORD   </td><td style=\"text-align: right;\">  1987</td><td style=\"text-align: right;\">      1</td><td style=\"text-align: right;\">           9</td></tr>\n",
       "<tr><td>KORD  </td><td style=\"text-align: right;\">        34</td><td style=\"text-align: right;\">         32</td><td style=\"text-align: right;\">        30</td><td style=\"text-align: right;\">            32</td><td style=\"text-align: right;\">             29</td><td style=\"text-align: right;\">             25</td><td style=\"text-align: right;\">          100</td><td style=\"text-align: right;\">            89</td><td style=\"text-align: right;\">           75</td><td style=\"text-align: right;\">                  29.91</td><td style=\"text-align: right;\">                   29.72</td><td style=\"text-align: right;\">                  29.57</td><td style=\"text-align: right;\">                   9</td><td style=\"text-align: right;\">                    4</td><td style=\"text-align: right;\">                   2</td><td style=\"text-align: right;\">               20</td><td style=\"text-align: right;\">                12</td><td style=\"text-align: right;\">               26</td><td style=\"text-align: right;\">             0.15</td><td style=\"text-align: right;\">           8</td><td>Fog-Snow</td><td style=\"text-align: right;\">             339</td><td>ORD   </td><td style=\"text-align: right;\">  1987</td><td style=\"text-align: right;\">      1</td><td style=\"text-align: right;\">          10</td></tr>\n",
       "</table>"
      ]
     },
     "metadata": {},
     "output_type": "display_data"
    }
   ],
   "source": [
    "## Summary of the flights and weather dataset\n",
    "flights_hex.show()\n",
    "weather_hex.show()"
   ]
  },
  {
   "cell_type": "code",
   "execution_count": 11,
   "metadata": {
    "collapsed": false
   },
   "outputs": [
    {
     "name": "stdout",
     "output_type": "stream",
     "text": [
      "(4780904, 31)\n",
      "(9768, 27)\n"
     ]
    }
   ],
   "source": [
    "print flights_hex.shape\n",
    "print weather_hex.shape"
   ]
  },
  {
   "cell_type": "code",
   "execution_count": 12,
   "metadata": {
    "collapsed": false
   },
   "outputs": [
    {
     "data": {
      "text/html": [
       "<div>\n",
       "<table border=\"1\" class=\"dataframe\">\n",
       "  <thead>\n",
       "    <tr style=\"text-align: right;\">\n",
       "      <th></th>\n",
       "      <th>Year</th>\n",
       "      <th>sum_IsWeatherDelayedNumeric</th>\n",
       "      <th>sum_IsArrDelayedNumeric</th>\n",
       "      <th>nrow_Year</th>\n",
       "    </tr>\n",
       "  </thead>\n",
       "  <tbody>\n",
       "    <tr>\n",
       "      <th>0</th>\n",
       "      <td>1987</td>\n",
       "      <td>0</td>\n",
       "      <td>15216</td>\n",
       "      <td>38041</td>\n",
       "    </tr>\n",
       "    <tr>\n",
       "      <th>1</th>\n",
       "      <td>1988</td>\n",
       "      <td>0</td>\n",
       "      <td>56686</td>\n",
       "      <td>147295</td>\n",
       "    </tr>\n",
       "    <tr>\n",
       "      <th>2</th>\n",
       "      <td>1989</td>\n",
       "      <td>0</td>\n",
       "      <td>59160</td>\n",
       "      <td>133278</td>\n",
       "    </tr>\n",
       "    <tr>\n",
       "      <th>3</th>\n",
       "      <td>1990</td>\n",
       "      <td>0</td>\n",
       "      <td>56392</td>\n",
       "      <td>154285</td>\n",
       "    </tr>\n",
       "    <tr>\n",
       "      <th>4</th>\n",
       "      <td>1991</td>\n",
       "      <td>0</td>\n",
       "      <td>50490</td>\n",
       "      <td>157913</td>\n",
       "    </tr>\n",
       "    <tr>\n",
       "      <th>5</th>\n",
       "      <td>1992</td>\n",
       "      <td>0</td>\n",
       "      <td>57940</td>\n",
       "      <td>163863</td>\n",
       "    </tr>\n",
       "    <tr>\n",
       "      <th>6</th>\n",
       "      <td>1993</td>\n",
       "      <td>0</td>\n",
       "      <td>61131</td>\n",
       "      <td>170640</td>\n",
       "    </tr>\n",
       "    <tr>\n",
       "      <th>7</th>\n",
       "      <td>1994</td>\n",
       "      <td>0</td>\n",
       "      <td>47078</td>\n",
       "      <td>163451</td>\n",
       "    </tr>\n",
       "    <tr>\n",
       "      <th>8</th>\n",
       "      <td>1995</td>\n",
       "      <td>0</td>\n",
       "      <td>44184</td>\n",
       "      <td>150482</td>\n",
       "    </tr>\n",
       "    <tr>\n",
       "      <th>9</th>\n",
       "      <td>1996</td>\n",
       "      <td>0</td>\n",
       "      <td>45343</td>\n",
       "      <td>144064</td>\n",
       "    </tr>\n",
       "    <tr>\n",
       "      <th>10</th>\n",
       "      <td>1997</td>\n",
       "      <td>0</td>\n",
       "      <td>54852</td>\n",
       "      <td>172330</td>\n",
       "    </tr>\n",
       "    <tr>\n",
       "      <th>11</th>\n",
       "      <td>1998</td>\n",
       "      <td>0</td>\n",
       "      <td>53161</td>\n",
       "      <td>171777</td>\n",
       "    </tr>\n",
       "    <tr>\n",
       "      <th>12</th>\n",
       "      <td>1999</td>\n",
       "      <td>0</td>\n",
       "      <td>62940</td>\n",
       "      <td>177946</td>\n",
       "    </tr>\n",
       "    <tr>\n",
       "      <th>13</th>\n",
       "      <td>2000</td>\n",
       "      <td>0</td>\n",
       "      <td>51200</td>\n",
       "      <td>148203</td>\n",
       "    </tr>\n",
       "    <tr>\n",
       "      <th>14</th>\n",
       "      <td>2001</td>\n",
       "      <td>0</td>\n",
       "      <td>46910</td>\n",
       "      <td>195317</td>\n",
       "    </tr>\n",
       "    <tr>\n",
       "      <th>15</th>\n",
       "      <td>2002</td>\n",
       "      <td>0</td>\n",
       "      <td>47624</td>\n",
       "      <td>225411</td>\n",
       "    </tr>\n",
       "    <tr>\n",
       "      <th>16</th>\n",
       "      <td>2003</td>\n",
       "      <td>2211</td>\n",
       "      <td>67040</td>\n",
       "      <td>256611</td>\n",
       "    </tr>\n",
       "    <tr>\n",
       "      <th>17</th>\n",
       "      <td>2004</td>\n",
       "      <td>4097</td>\n",
       "      <td>68614</td>\n",
       "      <td>240167</td>\n",
       "    </tr>\n",
       "    <tr>\n",
       "      <th>18</th>\n",
       "      <td>2005</td>\n",
       "      <td>3949</td>\n",
       "      <td>51768</td>\n",
       "      <td>215470</td>\n",
       "    </tr>\n",
       "    <tr>\n",
       "      <th>19</th>\n",
       "      <td>2006</td>\n",
       "      <td>4493</td>\n",
       "      <td>56532</td>\n",
       "      <td>214954</td>\n",
       "    </tr>\n",
       "    <tr>\n",
       "      <th>20</th>\n",
       "      <td>2007</td>\n",
       "      <td>5146</td>\n",
       "      <td>55758</td>\n",
       "      <td>207832</td>\n",
       "    </tr>\n",
       "    <tr>\n",
       "      <th>21</th>\n",
       "      <td>2008</td>\n",
       "      <td>4426</td>\n",
       "      <td>47603</td>\n",
       "      <td>203109</td>\n",
       "    </tr>\n",
       "    <tr>\n",
       "      <th>22</th>\n",
       "      <td>2009</td>\n",
       "      <td>3184</td>\n",
       "      <td>40679</td>\n",
       "      <td>217280</td>\n",
       "    </tr>\n",
       "    <tr>\n",
       "      <th>23</th>\n",
       "      <td>2010</td>\n",
       "      <td>3130</td>\n",
       "      <td>38788</td>\n",
       "      <td>208201</td>\n",
       "    </tr>\n",
       "    <tr>\n",
       "      <th>24</th>\n",
       "      <td>2011</td>\n",
       "      <td>3076</td>\n",
       "      <td>36010</td>\n",
       "      <td>199529</td>\n",
       "    </tr>\n",
       "    <tr>\n",
       "      <th>25</th>\n",
       "      <td>2012</td>\n",
       "      <td>3085</td>\n",
       "      <td>29976</td>\n",
       "      <td>202174</td>\n",
       "    </tr>\n",
       "    <tr>\n",
       "      <th>26</th>\n",
       "      <td>2013</td>\n",
       "      <td>2132</td>\n",
       "      <td>18827</td>\n",
       "      <td>101281</td>\n",
       "    </tr>\n",
       "  </tbody>\n",
       "</table>\n",
       "</div>"
      ],
      "text/plain": [
       "    Year  sum_IsWeatherDelayedNumeric  sum_IsArrDelayedNumeric  nrow_Year\n",
       "0   1987                            0                    15216      38041\n",
       "1   1988                            0                    56686     147295\n",
       "2   1989                            0                    59160     133278\n",
       "3   1990                            0                    56392     154285\n",
       "4   1991                            0                    50490     157913\n",
       "5   1992                            0                    57940     163863\n",
       "6   1993                            0                    61131     170640\n",
       "7   1994                            0                    47078     163451\n",
       "8   1995                            0                    44184     150482\n",
       "9   1996                            0                    45343     144064\n",
       "10  1997                            0                    54852     172330\n",
       "11  1998                            0                    53161     171777\n",
       "12  1999                            0                    62940     177946\n",
       "13  2000                            0                    51200     148203\n",
       "14  2001                            0                    46910     195317\n",
       "15  2002                            0                    47624     225411\n",
       "16  2003                         2211                    67040     256611\n",
       "17  2004                         4097                    68614     240167\n",
       "18  2005                         3949                    51768     215470\n",
       "19  2006                         4493                    56532     214954\n",
       "20  2007                         5146                    55758     207832\n",
       "21  2008                         4426                    47603     203109\n",
       "22  2009                         3184                    40679     217280\n",
       "23  2010                         3130                    38788     208201\n",
       "24  2011                         3076                    36010     199529\n",
       "25  2012                         3085                    29976     202174\n",
       "26  2013                         2132                    18827     101281"
      ]
     },
     "execution_count": 12,
     "metadata": {},
     "output_type": "execute_result"
    }
   ],
   "source": [
    "# Group flights by Year\n",
    "flights_hex[\"IsArrDelayedNumeric\"] = (flights_hex[\"IsArrDelayed\"] == \"YES\").ifelse(1,0)\n",
    "flights_hex[\"IsWeatherDelayedNumeric\"] = (flights_hex[\"WeatherDelay\"] > 0).ifelse(1,0)\n",
    "flights_group = flights_hex.group_by(\"Year\")\n",
    "flights_count = flights_group.count().sum(\"IsArrDelayedNumeric\").sum(\"IsWeatherDelayedNumeric\").frame\n",
    "flights_count.as_data_frame()"
   ]
  },
  {
   "cell_type": "code",
   "execution_count": 13,
   "metadata": {
    "collapsed": false
   },
   "outputs": [],
   "source": [
    "## Filter flights before 2003\n",
    "flights_hex = flights_hex[ flights_hex[ \"Year\"] >= 2003]\n",
    "## Filter flights that is delayed but not delayed by weather\n",
    "flights_hex = flights_hex[ (flights_hex[\"IsArrDelayed\"] == \"NO\") | (flights_hex[\"WeatherDelay\"] > 0)]"
   ]
  },
  {
   "cell_type": "code",
   "execution_count": 14,
   "metadata": {
    "collapsed": false
   },
   "outputs": [
    {
     "data": {
      "text/html": [
       "<table>\n",
       "<tr><th style=\"text-align: right;\">  CRSArrTime</th></tr>\n",
       "<tr><td style=\"text-align: right;\">        1351</td></tr>\n",
       "<tr><td style=\"text-align: right;\">        1351</td></tr>\n",
       "<tr><td style=\"text-align: right;\">        1351</td></tr>\n",
       "<tr><td style=\"text-align: right;\">        1351</td></tr>\n",
       "<tr><td style=\"text-align: right;\">        1351</td></tr>\n",
       "<tr><td style=\"text-align: right;\">        1351</td></tr>\n",
       "<tr><td style=\"text-align: right;\">        1351</td></tr>\n",
       "<tr><td style=\"text-align: right;\">        1351</td></tr>\n",
       "<tr><td style=\"text-align: right;\">        1351</td></tr>\n",
       "<tr><td style=\"text-align: right;\">        1351</td></tr>\n",
       "</table>"
      ]
     },
     "metadata": {},
     "output_type": "display_data"
    },
    {
     "data": {
      "text/plain": []
     },
     "execution_count": 14,
     "metadata": {},
     "output_type": "execute_result"
    }
   ],
   "source": [
    "flights_hex[\"CRSArrTime\"]"
   ]
  },
  {
   "cell_type": "code",
   "execution_count": 15,
   "metadata": {
    "collapsed": false
   },
   "outputs": [],
   "source": [
    "## Parameter Creation\n",
    "hour1 = flights_hex[\"CRSArrTime\"] // 100\n",
    "mins1 = flights_hex[\"CRSArrTime\"] % 100\n",
    "arrTime = hour1*60+mins1\n",
    "hour2 = flights_hex[\"CRSDepTime\"] // 100\n",
    "mins2 = flights_hex[\"CRSDepTime\"] % 100\n",
    "depTime = hour2*60+mins2\n",
    "\n",
    "travelTime = (arrTime - depTime > 0).ifelse(arrTime - depTime, 0)\n",
    "flights_hex[ \"TravelTime\"]  = travelTime"
   ]
  },
  {
   "cell_type": "code",
   "execution_count": 16,
   "metadata": {
    "collapsed": false
   },
   "outputs": [
    {
     "data": {
      "text/html": [
       "<table>\n",
       "<tr><th style=\"text-align: right;\">  TravelTime</th></tr>\n",
       "<tr><td style=\"text-align: right;\">         360</td></tr>\n",
       "<tr><td style=\"text-align: right;\">         360</td></tr>\n",
       "<tr><td style=\"text-align: right;\">         360</td></tr>\n",
       "<tr><td style=\"text-align: right;\">         360</td></tr>\n",
       "<tr><td style=\"text-align: right;\">         360</td></tr>\n",
       "<tr><td style=\"text-align: right;\">         360</td></tr>\n",
       "<tr><td style=\"text-align: right;\">         360</td></tr>\n",
       "<tr><td style=\"text-align: right;\">         360</td></tr>\n",
       "<tr><td style=\"text-align: right;\">         360</td></tr>\n",
       "<tr><td style=\"text-align: right;\">         360</td></tr>\n",
       "</table>"
      ]
     },
     "metadata": {},
     "output_type": "display_data"
    },
    {
     "data": {
      "text/plain": []
     },
     "execution_count": 16,
     "metadata": {},
     "output_type": "execute_result"
    }
   ],
   "source": [
    "flights_hex[ \"TravelTime\"]"
   ]
  },
  {
   "cell_type": "code",
   "execution_count": 18,
   "metadata": {
    "collapsed": true
   },
   "outputs": [],
   "source": [
    "# Set predictor and response variables\n",
    "myY = \"IsArrDelayed\"\n",
    "myX = [\"Year\", \"Month\", \"DayofMonth\", \"DayOfWeek\", \"UniqueCarrier\", \"Origin\", \"TravelTime\"]"
   ]
  },
  {
   "cell_type": "code",
   "execution_count": 19,
   "metadata": {
    "collapsed": false
   },
   "outputs": [],
   "source": [
    "# Create test/train split\n",
    "split = flights_hex[\"Year\"].runif()\n",
    "train = flights_hex[split <= 0.75]\n",
    "valid = flights_hex[split > 0.75]"
   ]
  },
  {
   "cell_type": "code",
   "execution_count": 20,
   "metadata": {
    "collapsed": false
   },
   "outputs": [
    {
     "name": "stdout",
     "output_type": "stream",
     "text": [
      "\n",
      "glm Model Build Progress: [##################################################] 100%\n",
      "\n",
      "gbm Model Build Progress: [##################################################] 100%\n"
     ]
    }
   ],
   "source": [
    "\n",
    "# GLM - Predict Delays\n",
    "arr_delay_glm = H2OGeneralizedLinearEstimator(family=\"binomial\",\n",
    "                                              standardize=True, \n",
    "                                              alpha = 0.5, \n",
    "                                              lambda_search = True)\n",
    "arr_delay_glm.train(x               =myX,\n",
    "                    y               =myY,\n",
    "                    training_frame  =train,\n",
    "                    validation_frame=valid)\n",
    "\n",
    "# GBM \n",
    "arr_delay_gbm = H2OGradientBoostingEstimator(distribution   =\"bernoulli\",\n",
    "                                             ntrees         =50)\n",
    "\n",
    "arr_delay_gbm.train(x               =myX,\n",
    "                    y               =myY,\n",
    "                    training_frame  =train,\n",
    "                    validation_frame=valid)\n"
   ]
  },
  {
   "cell_type": "code",
   "execution_count": 21,
   "metadata": {
    "collapsed": false
   },
   "outputs": [
    {
     "name": "stdout",
     "output_type": "stream",
     "text": [
      "GLM AUC TRAIN= 0.722015660717 , AUC Valid= 0.723810706456\n",
      "GBM AUC TRAIN= 0.803173914718 , AUC Valid= 0.795095939791\n"
     ]
    }
   ],
   "source": [
    "print \"GLM AUC TRAIN=\", arr_delay_glm.auc(train = True),\", AUC Valid=\",arr_delay_glm.auc(valid = True)\n",
    "print \"GBM AUC TRAIN=\", arr_delay_gbm.auc(train = True),\", AUC Valid=\",arr_delay_gbm.auc(valid = True)"
   ]
  },
  {
   "cell_type": "code",
   "execution_count": 22,
   "metadata": {
    "collapsed": false
   },
   "outputs": [],
   "source": [
    "## Merge with weather data\n",
    "merged_data = flights_hex.merge(weather_hex)"
   ]
  },
  {
   "cell_type": "code",
   "execution_count": 23,
   "metadata": {
    "collapsed": false
   },
   "outputs": [],
   "source": [
    "# Create test/train split\n",
    "split_weather = merged_data[\"Year\"].runif()\n",
    "train_weather = merged_data[split <= 0.75]\n",
    "valid_weather = merged_data[split > 0.75]"
   ]
  },
  {
   "cell_type": "code",
   "execution_count": 24,
   "metadata": {
    "collapsed": true
   },
   "outputs": [],
   "source": [
    "# Set predictor and response variables\n",
    "myY = \"IsArrDelayed\"\n",
    "myX = [\"Year\", \"Month\", \"DayofMonth\", \"DayOfWeek\", \"UniqueCarrier\", \"Origin\", \"TravelTime\"] + weather_hex.columns"
   ]
  },
  {
   "cell_type": "code",
   "execution_count": 25,
   "metadata": {
    "collapsed": false
   },
   "outputs": [
    {
     "name": "stdout",
     "output_type": "stream",
     "text": [
      "\n",
      "glm Model Build Progress: [##################################################] 100%\n",
      "\n",
      "gbm Model Build Progress: [##################################################] 100%\n"
     ]
    }
   ],
   "source": [
    "# GLM - Predict Delays\n",
    "arr_delay_weather_glm = H2OGeneralizedLinearEstimator(family=\"binomial\",\n",
    "                                                      standardize=True, \n",
    "                                                      alpha = 0.5, \n",
    "                                                      lambda_search = True)\n",
    "arr_delay_weather_glm.train(x               =myX,\n",
    "                            y               =myY,\n",
    "                            training_frame  =train_weather,\n",
    "                            validation_frame=valid_weather)\n",
    "\n",
    "# GBM\n",
    "arr_delay_weather_gbm = H2OGradientBoostingEstimator(distribution   =\"bernoulli\",\n",
    "                                                     ntrees         =50)\n",
    "\n",
    "arr_delay_weather_gbm.train(x               =myX,\n",
    "                            y               =myY,\n",
    "                            training_frame  =train_weather,\n",
    "                            validation_frame=valid_weather)\n",
    "\n"
   ]
  },
  {
   "cell_type": "code",
   "execution_count": 26,
   "metadata": {
    "collapsed": false
   },
   "outputs": [
    {
     "name": "stdout",
     "output_type": "stream",
     "text": [
      "GLM AUC TRAIN= 0.793889549771 , AUC Valid= 0.790934266013\n",
      "GBM AUC TRAIN= 0.856952805694 , AUC Valid= 0.847948904647\n"
     ]
    }
   ],
   "source": [
    "print \"GLM AUC TRAIN=\", arr_delay_weather_glm.auc(train = True),\", AUC Valid=\",arr_delay_weather_glm.auc(valid = True)\n",
    "print \"GBM AUC TRAIN=\", arr_delay_weather_gbm.auc(train = True),\", AUC Valid=\",arr_delay_weather_gbm.auc(valid = True)"
   ]
  }
 ],
 "metadata": {
  "kernelspec": {
   "display_name": "Python 2",
   "language": "python",
   "name": "python2"
  },
  "language_info": {
   "codemirror_mode": {
    "name": "ipython",
    "version": 2
   },
   "file_extension": ".py",
   "mimetype": "text/x-python",
   "name": "python",
   "nbconvert_exporter": "python",
   "pygments_lexer": "ipython2",
   "version": "2.7.11"
  }
 },
 "nbformat": 4,
 "nbformat_minor": 0
}
